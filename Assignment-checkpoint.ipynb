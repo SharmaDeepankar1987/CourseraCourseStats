{
 "cells": [
  {
   "cell_type": "code",
   "execution_count": 1,
   "id": "ab6fe471",
   "metadata": {},
   "outputs": [],
   "source": [
    "import pandas as pd\n",
    "import matplotlib.pyplot as plt\n",
    "from scipy import stats\n",
    "from scipy.stats import levene\n",
    "from scipy.stats import f_oneway\n",
    "from scipy.stats import pearsonr\n",
    "from scipy.stats import linregress\n",
    "import numpy as np"
   ]
  },
  {
   "cell_type": "code",
   "execution_count": 2,
   "id": "8e615527",
   "metadata": {},
   "outputs": [],
   "source": [
    "boston_url = 'https://cf-courses-data.s3.us.cloud-object-storage.appdomain.cloud/IBMDeveloperSkillsNetwork-ST0151EN-SkillsNetwork/labs/boston_housing.csv'\n",
    "boston_df=pd.read_csv(boston_url)"
   ]
  },
  {
   "cell_type": "code",
   "execution_count": 3,
   "id": "e16c4b3b",
   "metadata": {},
   "outputs": [
    {
     "data": {
      "text/html": [
       "<div>\n",
       "<style scoped>\n",
       "    .dataframe tbody tr th:only-of-type {\n",
       "        vertical-align: middle;\n",
       "    }\n",
       "\n",
       "    .dataframe tbody tr th {\n",
       "        vertical-align: top;\n",
       "    }\n",
       "\n",
       "    .dataframe thead th {\n",
       "        text-align: right;\n",
       "    }\n",
       "</style>\n",
       "<table border=\"1\" class=\"dataframe\">\n",
       "  <thead>\n",
       "    <tr style=\"text-align: right;\">\n",
       "      <th></th>\n",
       "      <th>Unnamed: 0</th>\n",
       "      <th>CRIM</th>\n",
       "      <th>ZN</th>\n",
       "      <th>INDUS</th>\n",
       "      <th>CHAS</th>\n",
       "      <th>NOX</th>\n",
       "      <th>RM</th>\n",
       "      <th>AGE</th>\n",
       "      <th>DIS</th>\n",
       "      <th>RAD</th>\n",
       "      <th>TAX</th>\n",
       "      <th>PTRATIO</th>\n",
       "      <th>LSTAT</th>\n",
       "      <th>MEDV</th>\n",
       "    </tr>\n",
       "  </thead>\n",
       "  <tbody>\n",
       "    <tr>\n",
       "      <th>0</th>\n",
       "      <td>0</td>\n",
       "      <td>0.00632</td>\n",
       "      <td>18.0</td>\n",
       "      <td>2.31</td>\n",
       "      <td>0.0</td>\n",
       "      <td>0.538</td>\n",
       "      <td>6.575</td>\n",
       "      <td>65.2</td>\n",
       "      <td>4.0900</td>\n",
       "      <td>1.0</td>\n",
       "      <td>296.0</td>\n",
       "      <td>15.3</td>\n",
       "      <td>4.98</td>\n",
       "      <td>24.0</td>\n",
       "    </tr>\n",
       "    <tr>\n",
       "      <th>1</th>\n",
       "      <td>1</td>\n",
       "      <td>0.02731</td>\n",
       "      <td>0.0</td>\n",
       "      <td>7.07</td>\n",
       "      <td>0.0</td>\n",
       "      <td>0.469</td>\n",
       "      <td>6.421</td>\n",
       "      <td>78.9</td>\n",
       "      <td>4.9671</td>\n",
       "      <td>2.0</td>\n",
       "      <td>242.0</td>\n",
       "      <td>17.8</td>\n",
       "      <td>9.14</td>\n",
       "      <td>21.6</td>\n",
       "    </tr>\n",
       "    <tr>\n",
       "      <th>2</th>\n",
       "      <td>2</td>\n",
       "      <td>0.02729</td>\n",
       "      <td>0.0</td>\n",
       "      <td>7.07</td>\n",
       "      <td>0.0</td>\n",
       "      <td>0.469</td>\n",
       "      <td>7.185</td>\n",
       "      <td>61.1</td>\n",
       "      <td>4.9671</td>\n",
       "      <td>2.0</td>\n",
       "      <td>242.0</td>\n",
       "      <td>17.8</td>\n",
       "      <td>4.03</td>\n",
       "      <td>34.7</td>\n",
       "    </tr>\n",
       "    <tr>\n",
       "      <th>3</th>\n",
       "      <td>3</td>\n",
       "      <td>0.03237</td>\n",
       "      <td>0.0</td>\n",
       "      <td>2.18</td>\n",
       "      <td>0.0</td>\n",
       "      <td>0.458</td>\n",
       "      <td>6.998</td>\n",
       "      <td>45.8</td>\n",
       "      <td>6.0622</td>\n",
       "      <td>3.0</td>\n",
       "      <td>222.0</td>\n",
       "      <td>18.7</td>\n",
       "      <td>2.94</td>\n",
       "      <td>33.4</td>\n",
       "    </tr>\n",
       "    <tr>\n",
       "      <th>4</th>\n",
       "      <td>4</td>\n",
       "      <td>0.06905</td>\n",
       "      <td>0.0</td>\n",
       "      <td>2.18</td>\n",
       "      <td>0.0</td>\n",
       "      <td>0.458</td>\n",
       "      <td>7.147</td>\n",
       "      <td>54.2</td>\n",
       "      <td>6.0622</td>\n",
       "      <td>3.0</td>\n",
       "      <td>222.0</td>\n",
       "      <td>18.7</td>\n",
       "      <td>5.33</td>\n",
       "      <td>36.2</td>\n",
       "    </tr>\n",
       "  </tbody>\n",
       "</table>\n",
       "</div>"
      ],
      "text/plain": [
       "   Unnamed: 0     CRIM    ZN  INDUS  CHAS    NOX     RM   AGE     DIS  RAD  \\\n",
       "0           0  0.00632  18.0   2.31   0.0  0.538  6.575  65.2  4.0900  1.0   \n",
       "1           1  0.02731   0.0   7.07   0.0  0.469  6.421  78.9  4.9671  2.0   \n",
       "2           2  0.02729   0.0   7.07   0.0  0.469  7.185  61.1  4.9671  2.0   \n",
       "3           3  0.03237   0.0   2.18   0.0  0.458  6.998  45.8  6.0622  3.0   \n",
       "4           4  0.06905   0.0   2.18   0.0  0.458  7.147  54.2  6.0622  3.0   \n",
       "\n",
       "     TAX  PTRATIO  LSTAT  MEDV  \n",
       "0  296.0     15.3   4.98  24.0  \n",
       "1  242.0     17.8   9.14  21.6  \n",
       "2  242.0     17.8   4.03  34.7  \n",
       "3  222.0     18.7   2.94  33.4  \n",
       "4  222.0     18.7   5.33  36.2  "
      ]
     },
     "execution_count": 3,
     "metadata": {},
     "output_type": "execute_result"
    }
   ],
   "source": [
    "boston_df.head()"
   ]
  },
  {
   "cell_type": "markdown",
   "id": "616e922f",
   "metadata": {},
   "source": [
    "# Data Visualization:"
   ]
  },
  {
   "cell_type": "code",
   "execution_count": 4,
   "id": "df548ad0",
   "metadata": {},
   "outputs": [
    {
     "data": {
      "image/png": "[encoded data removed]",
      "text/plain": [
       "<Figure size 640x480 with 1 Axes>"
      ]
     },
     "metadata": {},
     "output_type": "display_data"
    }
   ],
   "source": [
    "plt.boxplot(boston_df[\"MEDV\"])\n",
    "plt.title(\"Median value of owner-occupied homes\")\n",
    "plt.show()\n"
   ]
  },
  {
   "cell_type": "markdown",
   "id": "4752deec",
   "metadata": {},
   "source": [
    "# Box plot of meadian value of owner-occupied homes"
   ]
  },
  {
   "cell_type": "code",
   "execution_count": 6,
   "id": "2ca3faa8",
   "metadata": {},
   "outputs": [
    {
     "data": {
      "image/png": "[encoded data removed]",
      "text/plain": [
       "<Figure size 640x480 with 1 Axes>"
      ]
     },
     "metadata": {},
     "output_type": "display_data"
    }
   ],
   "source": [
    "boston_df['CHAS'].value_counts().plot(kind='bar')\n",
    "plt.xlabel('CHAS')\n",
    "plt.ylabel('Freq')\n",
    "plt.title(\"Bar Chart \")\n",
    "plt.show()"
   ]
  },
  {
   "cell_type": "markdown",
   "id": "02e09b2d",
   "metadata": {},
   "source": [
    "# Bar Chart depicting number of homes with tract bound river (1) and not (0)\n"
   ]
  },
  {
   "cell_type": "code",
   "execution_count": 9,
   "id": "e6022eb1",
   "metadata": {},
   "outputs": [
    {
     "data": {
      "image/png": "[encoded data removed]",
      "text/plain": [
       "<Figure size 640x480 with 1 Axes>"
      ]
     },
     "metadata": {},
     "output_type": "display_data"
    }
   ],
   "source": [
    "plt.boxplot([boston_df[boston_df[\"AGE\"] <= 35][\"MEDV\"], boston_df[(boston_df[\"AGE\"] > 35) & (boston_df[\"AGE\"] < 70)][\"MEDV\"], \n",
    "            boston_df[boston_df[\"AGE\"] >= 70][\"MEDV\"]], labels = [\"Less Than 35\", \"Between 35 and 70\", \"Greater than 70\"])\n",
    "plt.ylabel(\"MEDV\")\n",
    "plt.show()"
   ]
  },
  {
   "cell_type": "markdown",
   "id": "50e32dea",
   "metadata": {},
   "source": [
    "# Box plot of Median Value sorted by Age "
   ]
  },
  {
   "cell_type": "code",
   "execution_count": 7,
   "id": "402e108d",
   "metadata": {},
   "outputs": [
    {
     "data": {
      "image/png": "[encoded data removed]",
      "text/plain": [
       "<Figure size 640x480 with 1 Axes>"
      ]
     },
     "metadata": {},
     "output_type": "display_data"
    }
   ],
   "source": [
    "plt.scatter(boston_df[\"NOX\"], boston_df[\"INDUS\"], c = \"RED\")\n",
    "plt.xlabel(\"INDUS\")\n",
    "plt.ylabel(\"NOX\")\n",
    "plt.title(\"Plot of Nitric Oxide Concentrations vs Proportion of non-retail business acres per town \")\n",
    "plt.show()"
   ]
  },
  {
   "cell_type": "markdown",
   "id": "01a642ba",
   "metadata": {},
   "source": [
    "# Scatter plot of Nitric Conc. vs Proportion of non retail business acres per town"
   ]
  },
  {
   "cell_type": "code",
   "execution_count": 11,
   "id": "1b908a77",
   "metadata": {
    "scrolled": true
   },
   "outputs": [
    {
     "data": {
      "image/png": "[encoded data removed]",
      "text/plain": [
       "<Figure size 640x480 with 1 Axes>"
      ]
     },
     "metadata": {},
     "output_type": "display_data"
    }
   ],
   "source": [
    "plt.hist(boston_df[\"PTRATIO\"])\n",
    "plt.xlabel(\"Index\")\n",
    "plt.ylabel(\"PTRatio\")\n",
    "plt.show()"
   ]
  },
  {
   "cell_type": "markdown",
   "id": "9c1570bd",
   "metadata": {},
   "source": [
    "# Histrogram for the pupit to teacher ratio"
   ]
  },
  {
   "cell_type": "markdown",
   "id": "78bdc137",
   "metadata": {},
   "source": [
    "# Hypothesis Testing:"
   ]
  },
  {
   "cell_type": "markdown",
   "id": "351a47a4",
   "metadata": {},
   "source": [
    "# Test 1: Is there a significant difference in median value of houses bounded by the Charles river or not?\n",
    "\n",
    "    # Null Hypothesis: There is no significant difference in the median value of the houses bounded by Charles river and not\n",
    "    # Alternate hypothesis: There is a significant difference in the median value of houses"
   ]
  },
  {
   "cell_type": "markdown",
   "id": "42b14c36",
   "metadata": {},
   "source": [
    "# Check the skewness of the data"
   ]
  },
  {
   "cell_type": "code",
   "execution_count": 12,
   "id": "082d4e34",
   "metadata": {},
   "outputs": [
    {
     "name": "stdout",
     "output_type": "stream",
     "text": [
      "1.0569081379984129\n",
      "0.9430116716109092\n"
     ]
    }
   ],
   "source": [
    "print(boston_df[boston_df[\"CHAS\"] == 0][\"MEDV\"].skew())\n",
    "print(boston_df[boston_df[\"CHAS\"] == 1][\"MEDV\"].skew())"
   ]
  },
  {
   "cell_type": "markdown",
   "id": "061c2368",
   "metadata": {},
   "source": [
    "# Data is skewed and right skewed, hence should be transformed  "
   ]
  },
  {
   "cell_type": "code",
   "execution_count": 84,
   "id": "c40b7a1e",
   "metadata": {},
   "outputs": [],
   "source": [
    "transform_data1 = np.log1p(boston_df[boston_df[\"CHAS\"] == 0][\"MEDV\"])\n",
    "transform_data2 = np.log1p(boston_df[boston_df[\"CHAS\"] == 1][\"MEDV\"])"
   ]
  },
  {
   "cell_type": "code",
   "execution_count": 85,
   "id": "f341af7c",
   "metadata": {},
   "outputs": [
    {
     "name": "stdout",
     "output_type": "stream",
     "text": [
      "-0.3030605424672147\n",
      "0.47197088607280213\n"
     ]
    }
   ],
   "source": [
    "print(transform_data1.skew())\n",
    "print(transform_data2.skew())"
   ]
  },
  {
   "cell_type": "code",
   "execution_count": 90,
   "id": "73ca8a58",
   "metadata": {},
   "outputs": [
    {
     "data": {
      "image/png": "[encoded data removed]",
      "text/plain": [
       "<Figure size 640x480 with 1 Axes>"
      ]
     },
     "metadata": {},
     "output_type": "display_data"
    }
   ],
   "source": [
    "plt.hist(transform_data1)\n",
    "plt.hist(transform_data2)\n",
    "plt.show()"
   ]
  },
  {
   "cell_type": "markdown",
   "id": "760d41ae",
   "metadata": {},
   "source": [
    "# now skewness is between -0.5 & 0.5 "
   ]
  },
  {
   "cell_type": "markdown",
   "id": "853b9f00",
   "metadata": {},
   "source": [
    "# Check if the variance of the two datasets are equal or not"
   ]
  },
  {
   "cell_type": "code",
   "execution_count": 82,
   "id": "09b0eeb6",
   "metadata": {},
   "outputs": [
    {
     "name": "stdout",
     "output_type": "stream",
     "text": [
      "1.459802773481544 0.22752809926121373\n"
     ]
    }
   ],
   "source": [
    " stat, p_value = levene(transform_data1, transform_data2)\n",
    "print(stat, p_value)"
   ]
  },
  {
   "cell_type": "markdown",
   "id": "3fb1ca0e",
   "metadata": {},
   "source": [
    "# Since p_value > 0.05 the variance is equal"
   ]
  },
  {
   "cell_type": "markdown",
   "id": "bd1878df",
   "metadata": {},
   "source": [
    "# Run the t-test"
   ]
  },
  {
   "cell_type": "code",
   "execution_count": 87,
   "id": "03e9c0a6",
   "metadata": {},
   "outputs": [
    {
     "name": "stdout",
     "output_type": "stream",
     "text": [
      "-3.6256870941475605 0.0003174947434466864\n"
     ]
    }
   ],
   "source": [
    "t_stat, p_value = stats.ttest_ind(transform_data1, transform_data2\n",
    "                                  , equal_var = True)\n",
    "print(t_stat, p_value)"
   ]
  },
  {
   "cell_type": "markdown",
   "id": "d2799fbf",
   "metadata": {},
   "source": [
    "# Since p_value is < 0.05 hypothesis has failed and the means are unequal. Hence, the alternate hypothesis is true"
   ]
  },
  {
   "cell_type": "markdown",
   "id": "f5a18a35",
   "metadata": {},
   "source": [
    "# Test 2: Is there a difference in Median values of houses (MEDV) for each proportion of owner occupied units built prior to 1940 (AGE)?\n",
    "\n",
    "    # Null hypothesis: There is no significant difference in median values of houses for the units built prior to 1940 and others\n",
    "    # Alternate hypothesis: There is a significant difference in the median values of houses for the units built prior to 1940"
   ]
  },
  {
   "cell_type": "code",
   "execution_count": 102,
   "id": "282ac38a",
   "metadata": {},
   "outputs": [
    {
     "name": "stdout",
     "output_type": "stream",
     "text": [
      "100.0\n",
      "2.9\n"
     ]
    }
   ],
   "source": [
    "print(boston_df[\"AGE\"].max())\n",
    "print(boston_df[\"AGE\"].min())"
   ]
  },
  {
   "cell_type": "markdown",
   "id": "cfae9230",
   "metadata": {},
   "source": [
    "# Run One Way Annova Test (f-Test)"
   ]
  },
  {
   "cell_type": "code",
   "execution_count": 8,
   "id": "cfe33a4c",
   "metadata": {},
   "outputs": [
    {
     "name": "stdout",
     "output_type": "stream",
     "text": [
      "32.2868064078215 6.423413089231037e-14\n"
     ]
    }
   ],
   "source": [
    "stat, p_value = f_oneway(boston_df[boston_df[\"AGE\"] <= 33][\"MEDV\"], boston_df[(boston_df[\"AGE\"] > 33) & \n",
    "                            (boston_df[\"AGE\"] < 66)][\"MEDV\"], boston_df[boston_df[\"AGE\"] >= 66][\"MEDV\"]) \n",
    "print(stat, p_value)"
   ]
  },
  {
   "cell_type": "markdown",
   "id": "d1525642",
   "metadata": {},
   "source": [
    "# Since p_value is < 0.05 hypothesis has filed and the means are unequal. Hence, null hypothesis has failed and there is a significant difference in the median value of houses built prior to 1940"
   ]
  },
  {
   "cell_type": "markdown",
   "id": "5c5947f7",
   "metadata": {},
   "source": [
    "# Test 3: Can we conclude that there is no relationship between Nitric oxide concentrations and proportion of non-retail business acres per town?\n",
    "    # Null Hypothesis: No correlation exists between NOX and proportion of non-retail business acerage\n",
    "    # Alternate Hypothesis: There is a correlation between NOX and proportion of non-retail business acerage"
   ]
  },
  {
   "cell_type": "code",
   "execution_count": 115,
   "id": "aa63261e",
   "metadata": {},
   "outputs": [
    {
     "name": "stdout",
     "output_type": "stream",
     "text": [
      "0.763651446920915 7.913361061241167e-98\n"
     ]
    }
   ],
   "source": [
    "corr, val = pearsonr(boston_df[\"NOX\"], boston_df[\"INDUS\"])\n",
    "print(corr, val)"
   ]
  },
  {
   "cell_type": "markdown",
   "id": "dd127f00",
   "metadata": {},
   "source": [
    "# Positive correlation do exists NOX and INDUS, null hypothesis has failed and there exists a positive correlation"
   ]
  },
  {
   "cell_type": "markdown",
   "id": "9777819a",
   "metadata": {},
   "source": [
    "# Test 4: What is the impact of an additional weighted distance  to the five Boston employment centres on the median value of owner occupied homes?"
   ]
  },
  {
   "cell_type": "code",
   "execution_count": 122,
   "id": "572ee935",
   "metadata": {},
   "outputs": [],
   "source": [
    "result = linregress(boston_df[\"DIS\"], boston_df[\"MEDV\"])"
   ]
  },
  {
   "cell_type": "code",
   "execution_count": 123,
   "id": "d08f7f67",
   "metadata": {},
   "outputs": [
    {
     "name": "stdout",
     "output_type": "stream",
     "text": [
      "R2 : 0.06246437212178245\n"
     ]
    }
   ],
   "source": [
    "print(f\"R2 : {result.rvalue**2}\")"
   ]
  },
  {
   "cell_type": "code",
   "execution_count": 124,
   "id": "9a408fe1",
   "metadata": {},
   "outputs": [
    {
     "name": "stdout",
     "output_type": "stream",
     "text": [
      "1.0916130158411095\n"
     ]
    }
   ],
   "source": [
    "print(result.slope)"
   ]
  },
  {
   "cell_type": "markdown",
   "id": "da997465",
   "metadata": {},
   "source": [
    "# For each unit increase in the weightd distance to the 5 Boston employment centres the median values goes up by 1.0916130 Units"
   ]
  },
  {
   "cell_type": "code",
   "execution_count": null,
   "id": "2096e4af",
   "metadata": {},
   "outputs": [],
   "source": []
  }
 ],
 "metadata": {
  "kernelspec": {
   "display_name": "Python 3 (ipykernel)",
   "language": "python",
   "name": "python3"
  },
  "language_info": {
   "codemirror_mode": {
    "name": "ipython",
    "version": 3
   },
   "file_extension": ".py",
   "mimetype": "text/x-python",
   "name": "python",
   "nbconvert_exporter": "python",
   "pygments_lexer": "ipython3",
   "version": "3.9.18"
  }
 },
 "nbformat": 4,
 "nbformat_minor": 5
}
